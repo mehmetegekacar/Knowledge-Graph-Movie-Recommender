{
 "cells": [
  {
   "cell_type": "code",
   "execution_count": 3,
   "metadata": {},
   "outputs": [],
   "source": [
    "import requests\n",
    "from rdflib import Graph, Namespace, Literal, URIRef\n",
    "from Queries.queries import *"
   ]
  },
  {
   "cell_type": "code",
   "execution_count": null,
   "metadata": {},
   "outputs": [],
   "source": []
  },
  {
   "cell_type": "code",
   "execution_count": 4,
   "metadata": {},
   "outputs": [],
   "source": [
    "def query_wikidata_sparql(sparql_query,endpoint_url):\n",
    "    # Wikidata SPARQL endpoint\n",
    "    endpoint_url = endpoint_url\n",
    "\n",
    "    # Headers with user agent information (Wikimedia recommends providing a User-Agent header)\n",
    "    headers = {\n",
    "        'User-Agent': 'YourBot/1.0 (your@email.com)',\n",
    "        'Accept': 'application/json'\n",
    "    }\n",
    "\n",
    "    # Query parameters\n",
    "    params = {\n",
    "        'query': sparql_query,\n",
    "        'format': 'json'\n",
    "    }\n",
    "\n",
    "    # Make the request to Wikidata SPARQL endpoint\n",
    "    response = requests.get(endpoint_url, headers=headers, params=params)\n",
    "\n",
    "    # Check if the request was successful (status code 200)\n",
    "    if response.status_code == 200:\n",
    "        # Parse and return the JSON response\n",
    "        return response.json()\n",
    "    else:\n",
    "        # If the request was not successful, print the error code\n",
    "        print(f\"Error: {response.status_code}\")\n",
    "        return None\n"
   ]
  },
  {
   "cell_type": "code",
   "execution_count": 5,
   "metadata": {},
   "outputs": [],
   "source": [
    "# Define the SPARQL query to retrieve movies\n",
    "sparql_query = \"\"\"\n",
    "    SELECT ?item ?name ?directorname ?genrename ?countryname \n",
    "    WHERE {\n",
    "   ?item wdt:P31 wd:Q11424;\n",
    "    wdt:P1476 ?name;\n",
    "    wdt:P57 ?director;\n",
    "    wdt:P136 ?genre;\n",
    "    wdt:P495 ?country;\n",
    "    wdt:P444 ?review.\n",
    "  \n",
    "    ?director rdfs:label ?directorname.\n",
    "    ?genre rdfs:label ?genrename.\n",
    "    ?country rdfs:label ?countryname.\n",
    "  \n",
    "  FILTER(LANG(?directorname) = \"en\")\n",
    "  FILTER(LANG(?name)=\"en\")\n",
    "  FILTER(LANG(?genrename)=\"en\")\n",
    "  FILTER(LANG(?countryname)=\"en\")\n",
    "  \n",
    "}\n",
    "LIMIT 10\n",
    "    \"\"\""
   ]
  },
  {
   "cell_type": "code",
   "execution_count": 14,
   "metadata": {},
   "outputs": [],
   "source": [
    "query_wikidata_director = \"\"\"\n",
    "SELECT ?item ?name\n",
    "WHERE {\n",
    "  ?item wdt:P31 wd:Q11424;\n",
    "      wdt:P57 ?x.\n",
    "  ?x rdfs:label \"Christopher Nolan\"@en.\n",
    "  ?item rdfs:label ?name.\n",
    "  filter(lang(?name)=\"en\")\n",
    "}\n",
    "LIMIT 100\n",
    "\"\"\""
   ]
  },
  {
   "cell_type": "code",
   "execution_count": 15,
   "metadata": {},
   "outputs": [
    {
     "name": "stdout",
     "output_type": "stream",
     "text": [
      "Inception\n",
      "The Prestige\n",
      "The Dark Knight\n",
      "Batman Begins\n",
      "The Dark Knight Rises\n",
      "Memento\n",
      "Insomnia\n",
      "Following\n",
      "Interstellar\n",
      "Dunkirk\n",
      "Oppenheimer\n",
      "Tenet\n"
     ]
    }
   ],
   "source": [
    "sparql_endpoint = \" http://query.wikidata.org/sparql\"\n",
    "response = query_wikidata_sparql(query_wikidata_director,sparql_endpoint)\n",
    "for i in response['results']['bindings']:\n",
    "    print(i['name']['value'])"
   ]
  },
  {
   "cell_type": "code",
   "execution_count": null,
   "metadata": {},
   "outputs": [],
   "source": []
  }
 ],
 "metadata": {
  "kernelspec": {
   "display_name": "datamining",
   "language": "python",
   "name": "python3"
  },
  "language_info": {
   "codemirror_mode": {
    "name": "ipython",
    "version": 3
   },
   "file_extension": ".py",
   "mimetype": "text/x-python",
   "name": "python",
   "nbconvert_exporter": "python",
   "pygments_lexer": "ipython3",
   "version": "3.9.16"
  }
 },
 "nbformat": 4,
 "nbformat_minor": 2
}

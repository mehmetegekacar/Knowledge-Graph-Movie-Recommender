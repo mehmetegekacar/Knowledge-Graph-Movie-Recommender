{
 "cells": [
  {
   "cell_type": "code",
   "execution_count": 1,
   "metadata": {},
   "outputs": [],
   "source": [
    "import requests\n",
    "from rdflib import Graph, Namespace, Literal, URIRef"
   ]
  },
  {
   "cell_type": "code",
   "execution_count": 39,
   "metadata": {},
   "outputs": [
    {
     "name": "stdout",
     "output_type": "stream",
     "text": [
      "Ca-bau-kan\n",
      "Cab Calloway's Jitterbug Party\n",
      "Cab No. 13\n",
      "Cab Number 13\n",
      "Caballerango\n",
      "Caballo prieto azabache (film)\n",
      "Cabaret (1927 film)\n",
      "Cabaret (1972 film)\n",
      "Cabaret (2019 film)\n",
      "Cabaret Balkan\n"
     ]
    }
   ],
   "source": [
    "# Define the DBpedia SPARQL endpoint\n",
    "sparql_endpoint = \"http://dbpedia.org/sparql\"\n",
    "endpoint_url = sparql_endpoint\n",
    "# Define the SPARQL query to retrieve movies\n",
    "sparql_query = \"\"\"\n",
    "PREFIX rdf: <http://www.w3.org/1999/02/22-rdf-syntax-ns#>\n",
    "PREFIX rdfs: <http://www.w3.org/2000/01/rdf-schema#>\n",
    "PREFIX dbo: <http://dbpedia.org/ontology/>\n",
    "\n",
    "SELECT ?movie ?title\n",
    "WHERE {\n",
    "  ?movie rdf:type dbo:Film ;\n",
    "         rdfs:label ?title .\n",
    "  FILTER(LANG(?title) = \"en\")\n",
    "}\n",
    "LIMIT 10\n",
    "\"\"\"\n",
    "\n",
    "# Send the SPARQL query to the DBpedia SPARQL endpoint\n",
    "response = requests.get(sparql_endpoint, params={'query': sparql_query, 'format': 'json'})\n",
    "data = response.json()\n",
    "\n",
    "# Parse the JSON response and create an rdflib graph\n",
    "graph = Graph()\n",
    "graph.parse(data=response.text, format=\"json-ld\")\n",
    "\n",
    "# Iterate over the results and print movie titles\n",
    "for result in data['results']['bindings']:\n",
    "    title = result['title']['value']\n",
    "    print(title)\n"
   ]
  },
  {
   "cell_type": "code",
   "execution_count": 42,
   "metadata": {},
   "outputs": [
    {
     "name": "stdout",
     "output_type": "stream",
     "text": [
      "Cameron Crowe\n",
      "Camillo Mastrocinque\n",
      "Camillo Mastrocinque\n",
      "Camillo Mastrocinque\n",
      "Cao Hamburger\n",
      "Carl Boese\n",
      "Carl Boese\n",
      "Carl Boese\n",
      "Carl Franklin\n",
      "Carl Macek\n"
     ]
    }
   ],
   "source": [
    "sparql_query = \"\"\"\n",
    "    PREFIX rdf: <http://www.w3.org/1999/02/22-rdf-syntax-ns#>\n",
    "    PREFIX rdfs: <http://www.w3.org/2000/01/rdf-schema#>\n",
    "    PREFIX dbo: <http://dbpedia.org/ontology/>\n",
    "\n",
    "    SELECT ?directorName\n",
    "    WHERE {\n",
    "      ?movie rdf:type dbo:Film ;\n",
    "             rdf:type dbo:Work ;\n",
    "             dbo:director ?directorResource .\n",
    "      \n",
    "      OPTIONAL {\n",
    "        ?directorResource rdfs:label ?directorName .\n",
    "        FILTER(LANG(?directorName) = \"en\")\n",
    "      }\n",
    "    }\n",
    "    LIMIT 10\n",
    "    \"\"\"\n",
    "\n",
    "# Send the SPARQL query to the DBpedia SPARQL endpoint\n",
    "response = requests.get(endpoint_url, params={'query': sparql_query, 'format': 'json'})\n",
    "data = response.json()\n",
    "\n",
    "# Parse the JSON response and create an rdflib graph\n",
    "graph = Graph()\n",
    "graph.parse(data=response.text, format=\"json-ld\")\n",
    "\n",
    "# Iterate over the results and print movie titles\n",
    "for result in data['results']['bindings']:\n",
    "    title = result['directorName']['value']\n",
    "    print(title)"
   ]
  },
  {
   "cell_type": "code",
   "execution_count": 40,
   "metadata": {},
   "outputs": [
    {
     "data": {
      "text/plain": [
       "'http://dbpedia.org/sparql'"
      ]
     },
     "execution_count": 40,
     "metadata": {},
     "output_type": "execute_result"
    }
   ],
   "source": [
    "endpoint_url"
   ]
  }
 ],
 "metadata": {
  "kernelspec": {
   "display_name": "python310",
   "language": "python",
   "name": "python3"
  },
  "language_info": {
   "codemirror_mode": {
    "name": "ipython",
    "version": 3
   },
   "file_extension": ".py",
   "mimetype": "text/x-python",
   "name": "python",
   "nbconvert_exporter": "python",
   "pygments_lexer": "ipython3",
   "version": "3.9.16"
  }
 },
 "nbformat": 4,
 "nbformat_minor": 2
}
